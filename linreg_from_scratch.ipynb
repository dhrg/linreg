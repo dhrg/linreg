{
  "nbformat": 4,
  "nbformat_minor": 0,
  "metadata": {
    "colab": {
      "name": "linreg_from_scratch.ipynb",
      "version": "0.3.2",
      "provenance": [],
      "include_colab_link": true
    },
    "kernelspec": {
      "name": "python3",
      "display_name": "Python 3"
    }
  },
  "cells": [
    {
      "cell_type": "markdown",
      "metadata": {
        "id": "view-in-github",
        "colab_type": "text"
      },
      "source": [
        "<a href=\"https://colab.research.google.com/github/dhrg/linreg/blob/master/linreg_from_scratch.ipynb\" target=\"_parent\"><img src=\"https://colab.research.google.com/assets/colab-badge.svg\" alt=\"Open In Colab\"/></a>"
      ]
    },
    {
      "metadata": {
        "id": "5eklie-m2grg",
        "colab_type": "code",
        "colab": {}
      },
      "cell_type": "code",
      "source": [
        "import seaborn as sn\n",
        "import numpy as np\n",
        "import matplotlib.pyplot as plt\n",
        "import pandas as pd\n",
        "from scipy import  linalg\n",
        "\n",
        "from sklearn.preprocessing import LabelEncoder\n",
        "from sklearn.metrics import classification_report\n",
        "from sklearn.metrics import confusion_matrix\n",
        "from sklearn.model_selection import train_test_split\n",
        "from sklearn import datasets\n",
        "%matplotlib inline"
      ],
      "execution_count": 0,
      "outputs": []
    },
    {
      "metadata": {
        "id": "i_Tbiq6y3FqZ",
        "colab_type": "code",
        "colab": {
          "base_uri": "https://localhost:8080/",
          "height": 282
        },
        "outputId": "5f0bcffc-458d-4b67-ab85-68059368af64"
      },
      "cell_type": "code",
      "source": [
        "# lets create some synthetic data to regress\n",
        "X = np.arange(0,0.8,0.01)\n",
        "Y = 10*np.sin(np.pi*x)+np.random.uniform(0,7,x.shape[0])\n",
        "\n",
        "plt.plot(x,y,'bo')"
      ],
      "execution_count": 111,
      "outputs": [
        {
          "output_type": "execute_result",
          "data": {
            "text/plain": [
              "[<matplotlib.lines.Line2D at 0x7f0a733595f8>]"
            ]
          },
          "metadata": {
            "tags": []
          },
          "execution_count": 111
        },
        {
          "output_type": "display_data",
          "data": {
            "image/png": "[encoded data removed]",
            "text/plain": [
              "<Figure size 432x288 with 1 Axes>"
            ]
          },
          "metadata": {
            "tags": []
          }
        }
      ]
    },
    {
      "metadata": {
        "id": "NZAr3SmM5EC0",
        "colab_type": "code",
        "colab": {
          "base_uri": "https://localhost:8080/",
          "height": 34
        },
        "outputId": "bbc0bf14-9e79-42a4-8eb2-95c10855fe29"
      },
      "cell_type": "code",
      "source": [
        "y.shape"
      ],
      "execution_count": 32,
      "outputs": [
        {
          "output_type": "execute_result",
          "data": {
            "text/plain": [
              "(80,)"
            ]
          },
          "metadata": {
            "tags": []
          },
          "execution_count": 32
        }
      ]
    },
    {
      "metadata": {
        "id": "YTsjXE575NW-",
        "colab_type": "code",
        "colab": {}
      },
      "cell_type": "code",
      "source": [
        "data = pd.DataFrame({'X0': 1, 'X1':X, 'Y': Y})"
      ],
      "execution_count": 0,
      "outputs": []
    },
    {
      "metadata": {
        "id": "W3j4E2ZN5-XC",
        "colab_type": "text"
      },
      "cell_type": "markdown",
      "source": [
        "Closed form analytic solution for $X\\theta=Y$ where $X$ is data matrix whose columns are assumebly linear independent variables and $Y$ dependent variable, is\n",
        "\n",
        "$$ \\theta = (X^{T}X)^{-1}X^{T}Y.$$\n",
        "\n",
        "$X^{T}X$ is square matrix and invertible under asusmption that is not singular (determinant is not 0). That will be when columns/rows are independent or no duplicate columns/rows exist nor any combination of columns/rows can make other column/row.   "
      ]
    },
    {
      "metadata": {
        "id": "NaJ1-ZqK5g0Q",
        "colab_type": "code",
        "colab": {}
      },
      "cell_type": "code",
      "source": [
        "X = data[['X0','X1']].values\n",
        "Y = data['Y'].values"
      ],
      "execution_count": 0,
      "outputs": []
    },
    {
      "metadata": {
        "id": "K-trObiD9Yhe",
        "colab_type": "code",
        "colab": {
          "base_uri": "https://localhost:8080/",
          "height": 51
        },
        "outputId": "371deea2-e110-4477-8f97-ae0723473a51"
      },
      "cell_type": "code",
      "source": [
        "theta_closed = linalg.inv(X.T@X)@X.T@Y\n",
        "\n",
        "theta_closed"
      ],
      "execution_count": 174,
      "outputs": [
        {
          "output_type": "execute_result",
          "data": {
            "text/plain": [
              "array([[6.64766467],\n",
              "       [9.93136107]])"
            ]
          },
          "metadata": {
            "tags": []
          },
          "execution_count": 174
        }
      ]
    },
    {
      "metadata": {
        "id": "Z72bzFFo94Oh",
        "colab_type": "code",
        "colab": {
          "base_uri": "https://localhost:8080/",
          "height": 299
        },
        "outputId": "299eec06-55d8-4b42-8631-a9a9c142f61b"
      },
      "cell_type": "code",
      "source": [
        "plt.plot(x,y,'bo', x, X@theta_closed, 'r-')\n"
      ],
      "execution_count": 129,
      "outputs": [
        {
          "output_type": "execute_result",
          "data": {
            "text/plain": [
              "[<matplotlib.lines.Line2D at 0x7f0a73202b70>,\n",
              " <matplotlib.lines.Line2D at 0x7f0a73202cf8>]"
            ]
          },
          "metadata": {
            "tags": []
          },
          "execution_count": 129
        },
        {
          "output_type": "display_data",
          "data": {
            "image/png": "[encoded data removed]",
            "text/plain": [
              "<Figure size 432x288 with 1 Axes>"
            ]
          },
          "metadata": {
            "tags": []
          }
        }
      ]
    },
    {
      "metadata": {
        "id": "ou24OqpU-WeA",
        "colab_type": "code",
        "colab": {}
      },
      "cell_type": "code",
      "source": [
        "from sklearn.metrics import mean_squared_error as mse"
      ],
      "execution_count": 0,
      "outputs": []
    },
    {
      "metadata": {
        "id": "TtoxyfbsC6j_",
        "colab_type": "code",
        "colab": {
          "base_uri": "https://localhost:8080/",
          "height": 34
        },
        "outputId": "6406e13f-2b98-4c44-f4c7-f8111915fb7e"
      },
      "cell_type": "code",
      "source": [
        "RMSE_closed = np.sqrt(mse(Y, X@theta_closed))\n",
        "print(RMSE_closed)"
      ],
      "execution_count": 126,
      "outputs": [
        {
          "output_type": "stream",
          "text": [
            "3.007268993047066\n"
          ],
          "name": "stdout"
        }
      ]
    },
    {
      "metadata": {
        "id": "ObTHqo0sE3Nr",
        "colab_type": "text"
      },
      "cell_type": "markdown",
      "source": [
        "Closed form RMSE is 3. Lets see numpy/SGD and sklearn versions. We need cost function and derivatives of cost function. The cost function in vectorized form is: \n",
        "\n",
        "$$J(\\theta)=\\frac{1}{2m}(X\\theta-Y)^{T}(X\\theta-Y)$$\n",
        "\n",
        "and then derivative also in vectorized form is: \n",
        "\n",
        "$$ \\frac{\\partial{J(\\theta)}}{\\partial{\\theta}}=\\frac{1}{m}X^{T}(X\\theta-Y).$$\n",
        "\n",
        "\n",
        "The learning rule or often caled LMS update rule, is:\n",
        "\n",
        "$$\\theta = \\theta - \\alpha\\frac{\\partial{J(\\theta)}}{\\partial{\\theta}}$$ \n",
        "\n",
        "where $\\alpha$ is learning rate.  Note in calculation of derivative (gradient), the whole dataset (all datapints of $X^{T}$) are utilized. As such this is called Batch Gradient Descent or just Gradient Descent (GD). Minibatch GD would take only subset of whole dataset to calculate gradient, and Stoschastic GD or SGD takes only single random point. SGD is option when dataset is large, while in smaller datasets (not large num of rows) one can used GD.\n"
      ]
    },
    {
      "metadata": {
        "id": "468EVyRYE3e_",
        "colab_type": "code",
        "colab": {}
      },
      "cell_type": "code",
      "source": [
        "# lets do gradient descent\n",
        "\n",
        "\n",
        "# gradient vectorized form\n",
        "def grad(X,Y,theta):\n",
        "  scale=1/X.shape[0]\n",
        "  return scale*X.T@(X@theta-Y)\n",
        "\n",
        "# theta init\n",
        "theta = np.matrix([[0],[0]])\n",
        "\n",
        "# gd\n",
        "def gd(X,Y,theta, alpha=0.01, iter=6000):\n",
        "  count=0\n",
        "  for i in range(iter):\n",
        "    theta = theta -alpha*grad(X,Y,theta)\n",
        "    count= count+1\n",
        "    \n",
        "  return theta, count\n",
        "    \n",
        "    "
      ],
      "execution_count": 0,
      "outputs": []
    },
    {
      "metadata": {
        "id": "VOkqV7WvPkQT",
        "colab_type": "code",
        "colab": {
          "base_uri": "https://localhost:8080/",
          "height": 316
        },
        "outputId": "ab0c9fb5-7c24-434b-994e-5ecd51182ddd"
      },
      "cell_type": "code",
      "source": [
        "theta,count = gd(X,Y,theta)\n",
        "plt.plot(x,y,'bo', x, X@theta_closed, 'r-', x, X@theta, 'g-')"
      ],
      "execution_count": 205,
      "outputs": [
        {
          "output_type": "execute_result",
          "data": {
            "text/plain": [
              "[<matplotlib.lines.Line2D at 0x7f0a72a4ff28>,\n",
              " <matplotlib.lines.Line2D at 0x7f0a72a5a0f0>,\n",
              " <matplotlib.lines.Line2D at 0x7f0a72a5a4e0>]"
            ]
          },
          "metadata": {
            "tags": []
          },
          "execution_count": 205
        },
        {
          "output_type": "display_data",
          "data": {
            "image/png": "[encoded data removed]",
            "text/plain": [
              "<Figure size 432x288 with 1 Axes>"
            ]
          },
          "metadata": {
            "tags": []
          }
        }
      ]
    },
    {
      "metadata": {
        "id": "62eJOnYwR2oT",
        "colab_type": "code",
        "colab": {
          "base_uri": "https://localhost:8080/",
          "height": 34
        },
        "outputId": "3452a9c8-0495-4069-834b-175b8f79f506"
      },
      "cell_type": "code",
      "source": [
        "RMSE_gd = np.sqrt(mse(Y, X@theta))\n",
        "print(RMSE_gd)"
      ],
      "execution_count": 206,
      "outputs": [
        {
          "output_type": "stream",
          "text": [
            "3.0086376793220215\n"
          ],
          "name": "stdout"
        }
      ]
    },
    {
      "metadata": {
        "id": "coRQwaPMTcsS",
        "colab_type": "code",
        "colab": {}
      },
      "cell_type": "code",
      "source": [
        ""
      ],
      "execution_count": 0,
      "outputs": []
    }
  ]
}